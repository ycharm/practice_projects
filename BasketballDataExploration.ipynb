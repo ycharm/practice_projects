{
 "cells": [
  {
   "cell_type": "markdown",
   "metadata": {},
   "source": [
    "## Clean and organize basketball player statistics from scraped data.\n",
    "Preliminary quesiton: how are height and weight related?\n",
    "Secondary question: do performance metrics correlate with age/experience/height/weight? \n",
    "I don't know ANYTHING about basketball so lets try Height?"
   ]
  },
  {
   "cell_type": "code",
   "execution_count": 29,
   "metadata": {},
   "outputs": [],
   "source": [
    "#relevant imports\n",
    "import pandas as pd\n",
    "import seaborn as sns\n",
    "import numpy as np\n",
    "import matplotlib.pyplot as plt\n",
    "from scipy.stats import mannwhitneyu"
   ]
  },
  {
   "cell_type": "code",
   "execution_count": 2,
   "metadata": {},
   "outputs": [],
   "source": [
    "players_df = pd.read_pickle('basketballplayers.pkl')"
   ]
  },
  {
   "cell_type": "code",
   "execution_count": 3,
   "metadata": {},
   "outputs": [
    {
     "data": {
      "text/html": [
       "<div>\n",
       "<style scoped>\n",
       "    .dataframe tbody tr th:only-of-type {\n",
       "        vertical-align: middle;\n",
       "    }\n",
       "\n",
       "    .dataframe tbody tr th {\n",
       "        vertical-align: top;\n",
       "    }\n",
       "\n",
       "    .dataframe thead th {\n",
       "        text-align: right;\n",
       "    }\n",
       "</style>\n",
       "<table border=\"1\" class=\"dataframe\">\n",
       "  <thead>\n",
       "    <tr style=\"text-align: right;\">\n",
       "      <th></th>\n",
       "      <th>displayName</th>\n",
       "      <th>firstName</th>\n",
       "      <th>heightFeet</th>\n",
       "      <th>heightInches</th>\n",
       "      <th>isAllStar</th>\n",
       "      <th>jersey</th>\n",
       "      <th>lastName</th>\n",
       "      <th>orderChar</th>\n",
       "      <th>playerUrl</th>\n",
       "      <th>pos</th>\n",
       "      <th>posExpanded</th>\n",
       "      <th>teamData.city</th>\n",
       "      <th>teamData.nickname</th>\n",
       "      <th>teamData.tricode</th>\n",
       "      <th>teamData.urlName</th>\n",
       "      <th>weightPounds</th>\n",
       "      <th>age</th>\n",
       "      <th>years_in_nba</th>\n",
       "    </tr>\n",
       "    <tr>\n",
       "      <th>personId</th>\n",
       "      <th></th>\n",
       "      <th></th>\n",
       "      <th></th>\n",
       "      <th></th>\n",
       "      <th></th>\n",
       "      <th></th>\n",
       "      <th></th>\n",
       "      <th></th>\n",
       "      <th></th>\n",
       "      <th></th>\n",
       "      <th></th>\n",
       "      <th></th>\n",
       "      <th></th>\n",
       "      <th></th>\n",
       "      <th></th>\n",
       "      <th></th>\n",
       "      <th></th>\n",
       "      <th></th>\n",
       "    </tr>\n",
       "  </thead>\n",
       "  <tbody>\n",
       "    <tr>\n",
       "      <th>203518</th>\n",
       "      <td>Abrines, Alex</td>\n",
       "      <td>Alex</td>\n",
       "      <td>6</td>\n",
       "      <td>6</td>\n",
       "      <td>False</td>\n",
       "      <td>8</td>\n",
       "      <td>Abrines</td>\n",
       "      <td>A</td>\n",
       "      <td>/players/alex/abrines/203518</td>\n",
       "      <td>G</td>\n",
       "      <td>Guard</td>\n",
       "      <td>Oklahoma City</td>\n",
       "      <td>Thunder</td>\n",
       "      <td>OKC</td>\n",
       "      <td>thunder</td>\n",
       "      <td>190</td>\n",
       "      <td>25.0</td>\n",
       "      <td>2.0</td>\n",
       "    </tr>\n",
       "    <tr>\n",
       "      <th>203112</th>\n",
       "      <td>Acy, Quincy</td>\n",
       "      <td>Quincy</td>\n",
       "      <td>6</td>\n",
       "      <td>7</td>\n",
       "      <td>False</td>\n",
       "      <td>13</td>\n",
       "      <td>Acy</td>\n",
       "      <td>A</td>\n",
       "      <td>/players/quincy/acy/203112</td>\n",
       "      <td>F</td>\n",
       "      <td>Forward</td>\n",
       "      <td>Brooklyn</td>\n",
       "      <td>Nets</td>\n",
       "      <td>BKN</td>\n",
       "      <td>nets</td>\n",
       "      <td>240</td>\n",
       "      <td>27.0</td>\n",
       "      <td>6.0</td>\n",
       "    </tr>\n",
       "    <tr>\n",
       "      <th>1629121</th>\n",
       "      <td>Adams, Jaylen</td>\n",
       "      <td>Jaylen</td>\n",
       "      <td>6</td>\n",
       "      <td>2</td>\n",
       "      <td>False</td>\n",
       "      <td></td>\n",
       "      <td>Adams</td>\n",
       "      <td>A</td>\n",
       "      <td>/players/jaylen/adams/1629121</td>\n",
       "      <td>G</td>\n",
       "      <td>Guard</td>\n",
       "      <td>Atlanta</td>\n",
       "      <td>Hawks</td>\n",
       "      <td>ATL</td>\n",
       "      <td>hawks</td>\n",
       "      <td>190</td>\n",
       "      <td>22.0</td>\n",
       "      <td>0.0</td>\n",
       "    </tr>\n",
       "    <tr>\n",
       "      <th>203500</th>\n",
       "      <td>Adams, Steven</td>\n",
       "      <td>Steven</td>\n",
       "      <td>7</td>\n",
       "      <td>0</td>\n",
       "      <td>False</td>\n",
       "      <td>12</td>\n",
       "      <td>Adams</td>\n",
       "      <td>A</td>\n",
       "      <td>/players/steven/adams/203500</td>\n",
       "      <td>C</td>\n",
       "      <td>Center</td>\n",
       "      <td>Oklahoma City</td>\n",
       "      <td>Thunder</td>\n",
       "      <td>OKC</td>\n",
       "      <td>thunder</td>\n",
       "      <td>255</td>\n",
       "      <td>25.0</td>\n",
       "      <td>5.0</td>\n",
       "    </tr>\n",
       "    <tr>\n",
       "      <th>1628389</th>\n",
       "      <td>Adebayo, Bam</td>\n",
       "      <td>Bam</td>\n",
       "      <td>6</td>\n",
       "      <td>10</td>\n",
       "      <td>False</td>\n",
       "      <td>13</td>\n",
       "      <td>Adebayo</td>\n",
       "      <td>A</td>\n",
       "      <td>/players/bam/adebayo/1628389</td>\n",
       "      <td>C-F</td>\n",
       "      <td>Center-Forward</td>\n",
       "      <td>Miami</td>\n",
       "      <td>Heat</td>\n",
       "      <td>MIA</td>\n",
       "      <td>heat</td>\n",
       "      <td>255</td>\n",
       "      <td>21.0</td>\n",
       "      <td>1.0</td>\n",
       "    </tr>\n",
       "  </tbody>\n",
       "</table>\n",
       "</div>"
      ],
      "text/plain": [
       "            displayName firstName heightFeet heightInches  isAllStar jersey  \\\n",
       "personId                                                                      \n",
       "203518    Abrines, Alex      Alex          6            6      False      8   \n",
       "203112      Acy, Quincy    Quincy          6            7      False     13   \n",
       "1629121   Adams, Jaylen    Jaylen          6            2      False          \n",
       "203500    Adams, Steven    Steven          7            0      False     12   \n",
       "1628389    Adebayo, Bam       Bam          6           10      False     13   \n",
       "\n",
       "         lastName orderChar                      playerUrl  pos  \\\n",
       "personId                                                          \n",
       "203518    Abrines         A   /players/alex/abrines/203518    G   \n",
       "203112        Acy         A     /players/quincy/acy/203112    F   \n",
       "1629121     Adams         A  /players/jaylen/adams/1629121    G   \n",
       "203500      Adams         A   /players/steven/adams/203500    C   \n",
       "1628389   Adebayo         A   /players/bam/adebayo/1628389  C-F   \n",
       "\n",
       "             posExpanded  teamData.city teamData.nickname teamData.tricode  \\\n",
       "personId                                                                     \n",
       "203518             Guard  Oklahoma City           Thunder              OKC   \n",
       "203112           Forward       Brooklyn              Nets              BKN   \n",
       "1629121            Guard        Atlanta             Hawks              ATL   \n",
       "203500            Center  Oklahoma City           Thunder              OKC   \n",
       "1628389   Center-Forward          Miami              Heat              MIA   \n",
       "\n",
       "         teamData.urlName weightPounds   age  years_in_nba  \n",
       "personId                                                    \n",
       "203518            thunder          190  25.0           2.0  \n",
       "203112               nets          240  27.0           6.0  \n",
       "1629121             hawks          190  22.0           0.0  \n",
       "203500            thunder          255  25.0           5.0  \n",
       "1628389              heat          255  21.0           1.0  "
      ]
     },
     "execution_count": 3,
     "metadata": {},
     "output_type": "execute_result"
    }
   ],
   "source": [
    "players_df.head()"
   ]
  },
  {
   "cell_type": "code",
   "execution_count": 4,
   "metadata": {},
   "outputs": [],
   "source": [
    "#convert to numeric and create new column called height\n",
    "players_df.replace(to_replace = '-', value = np.nan, inplace = True)\n",
    "players_df['heightFeet'] = pd.to_numeric(players_df.heightFeet)\n",
    "players_df['heightInches'] = pd.to_numeric(players_df.heightInches)\n",
    "players_df['height'] = players_df.heightFeet * 12 + players_df.heightInches"
   ]
  },
  {
   "cell_type": "code",
   "execution_count": 5,
   "metadata": {},
   "outputs": [
    {
     "data": {
      "text/plain": [
       "<matplotlib.axes._subplots.AxesSubplot at 0x117098dd8>"
      ]
     },
     "execution_count": 5,
     "metadata": {},
     "output_type": "execute_result"
    },
    {
     "data": {
      "image/png": "[encoded data removed]",
      "text/plain": [
       "<matplotlib.figure.Figure at 0x1170982b0>"
      ]
     },
     "metadata": {},
     "output_type": "display_data"
    }
   ],
   "source": [
    "#distribution of heights of basketball plauers\n",
    "sns.distplot(players_df.height.dropna())"
   ]
  },
  {
   "cell_type": "code",
   "execution_count": 6,
   "metadata": {},
   "outputs": [
    {
     "data": {
      "text/plain": [
       "<matplotlib.axes._subplots.AxesSubplot at 0x116f41dd8>"
      ]
     },
     "execution_count": 6,
     "metadata": {},
     "output_type": "execute_result"
    },
    {
     "data": {
      "image/png": "[encoded data removed]",
      "text/plain": [
       "<matplotlib.figure.Figure at 0x11c4e14a8>"
      ]
     },
     "metadata": {},
     "output_type": "display_data"
    }
   ],
   "source": [
    "players_df['weightPounds'] = pd.to_numeric(players_df.weightPounds)\n",
    "sns.distplot(players_df.weightPounds.dropna())\n",
    "\n"
   ]
  },
  {
   "cell_type": "code",
   "execution_count": 7,
   "metadata": {},
   "outputs": [
    {
     "data": {
      "text/plain": [
       "<matplotlib.axes._subplots.AxesSubplot at 0x11c6396d8>"
      ]
     },
     "execution_count": 7,
     "metadata": {},
     "output_type": "execute_result"
    },
    {
     "data": {
      "image/png": "[encoded data removed]",
      "text/plain": [
       "<matplotlib.figure.Figure at 0x11c581d68>"
      ]
     },
     "metadata": {},
     "output_type": "display_data"
    }
   ],
   "source": [
    "#check height and weight correlation\n",
    "sns.regplot(x = \"height\", y = \"weightPounds\", data = players_df)"
   ]
  },
  {
   "cell_type": "code",
   "execution_count": 8,
   "metadata": {},
   "outputs": [],
   "source": [
    "#get basketball players stats file and relevant columns. what columns measure performance\n",
    "stats_df = pd.read_pickle('basketballstats.pkl')"
   ]
  },
  {
   "cell_type": "code",
   "execution_count": 9,
   "metadata": {},
   "outputs": [
    {
     "name": "stdout",
     "output_type": "stream",
     "text": [
      "_internal.eventName\n",
      "_internal.pubDateTime\n",
      "_internal.xslt\n",
      "league.sacramento.stats.careerSummary.apg\n",
      "league.sacramento.stats.careerSummary.assists\n",
      "league.sacramento.stats.careerSummary.blocks\n",
      "league.sacramento.stats.careerSummary.bpg\n",
      "league.sacramento.stats.careerSummary.dd2\n",
      "league.sacramento.stats.careerSummary.defReb\n",
      "league.sacramento.stats.careerSummary.fga\n",
      "league.sacramento.stats.careerSummary.fgm\n",
      "league.sacramento.stats.careerSummary.fgp\n",
      "league.sacramento.stats.careerSummary.fta\n",
      "league.sacramento.stats.careerSummary.ftm\n",
      "league.sacramento.stats.careerSummary.ftp\n",
      "league.sacramento.stats.careerSummary.gamesPlayed\n",
      "league.sacramento.stats.careerSummary.gamesStarted\n",
      "league.sacramento.stats.careerSummary.min\n",
      "league.sacramento.stats.careerSummary.mpg\n",
      "league.sacramento.stats.careerSummary.offReb\n",
      "league.sacramento.stats.careerSummary.pFouls\n",
      "league.sacramento.stats.careerSummary.plusMinus\n",
      "league.sacramento.stats.careerSummary.points\n",
      "league.sacramento.stats.careerSummary.ppg\n",
      "league.sacramento.stats.careerSummary.rpg\n",
      "league.sacramento.stats.careerSummary.spg\n",
      "league.sacramento.stats.careerSummary.steals\n",
      "league.sacramento.stats.careerSummary.td3\n",
      "league.sacramento.stats.careerSummary.totReb\n",
      "league.sacramento.stats.careerSummary.tpa\n",
      "league.sacramento.stats.careerSummary.tpm\n",
      "league.sacramento.stats.careerSummary.tpp\n",
      "league.sacramento.stats.careerSummary.turnovers\n",
      "league.sacramento.stats.latest.apg\n",
      "league.sacramento.stats.latest.assists\n",
      "league.sacramento.stats.latest.blocks\n",
      "league.sacramento.stats.latest.bpg\n",
      "league.sacramento.stats.latest.dd2\n",
      "league.sacramento.stats.latest.defReb\n",
      "league.sacramento.stats.latest.fga\n",
      "league.sacramento.stats.latest.fgm\n",
      "league.sacramento.stats.latest.fgp\n",
      "league.sacramento.stats.latest.fta\n",
      "league.sacramento.stats.latest.ftm\n",
      "league.sacramento.stats.latest.ftp\n",
      "league.sacramento.stats.latest.gamesPlayed\n",
      "league.sacramento.stats.latest.gamesStarted\n",
      "league.sacramento.stats.latest.min\n",
      "league.sacramento.stats.latest.mpg\n",
      "league.sacramento.stats.latest.offReb\n",
      "league.sacramento.stats.latest.pFouls\n",
      "league.sacramento.stats.latest.plusMinus\n",
      "league.sacramento.stats.latest.points\n",
      "league.sacramento.stats.latest.ppg\n",
      "league.sacramento.stats.latest.rpg\n",
      "league.sacramento.stats.latest.seasonStageId\n",
      "league.sacramento.stats.latest.seasonYear\n",
      "league.sacramento.stats.latest.spg\n",
      "league.sacramento.stats.latest.steals\n",
      "league.sacramento.stats.latest.td3\n",
      "league.sacramento.stats.latest.topg\n",
      "league.sacramento.stats.latest.totReb\n",
      "league.sacramento.stats.latest.tpa\n",
      "league.sacramento.stats.latest.tpm\n",
      "league.sacramento.stats.latest.tpp\n",
      "league.sacramento.stats.latest.turnovers\n",
      "league.sacramento.stats.regularSeason.season\n",
      "league.sacramento.teamId\n",
      "league.standard.stats.careerSummary.apg\n",
      "league.standard.stats.careerSummary.assists\n",
      "league.standard.stats.careerSummary.blocks\n",
      "league.standard.stats.careerSummary.bpg\n",
      "league.standard.stats.careerSummary.dd2\n",
      "league.standard.stats.careerSummary.defReb\n",
      "league.standard.stats.careerSummary.fga\n",
      "league.standard.stats.careerSummary.fgm\n",
      "league.standard.stats.careerSummary.fgp\n",
      "league.standard.stats.careerSummary.fta\n",
      "league.standard.stats.careerSummary.ftm\n",
      "league.standard.stats.careerSummary.ftp\n",
      "league.standard.stats.careerSummary.gamesPlayed\n",
      "league.standard.stats.careerSummary.gamesStarted\n",
      "league.standard.stats.careerSummary.min\n",
      "league.standard.stats.careerSummary.mpg\n",
      "league.standard.stats.careerSummary.offReb\n",
      "league.standard.stats.careerSummary.pFouls\n",
      "league.standard.stats.careerSummary.plusMinus\n",
      "league.standard.stats.careerSummary.points\n",
      "league.standard.stats.careerSummary.ppg\n",
      "league.standard.stats.careerSummary.rpg\n",
      "league.standard.stats.careerSummary.spg\n",
      "league.standard.stats.careerSummary.steals\n",
      "league.standard.stats.careerSummary.td3\n",
      "league.standard.stats.careerSummary.totReb\n",
      "league.standard.stats.careerSummary.tpa\n",
      "league.standard.stats.careerSummary.tpm\n",
      "league.standard.stats.careerSummary.tpp\n",
      "league.standard.stats.careerSummary.turnovers\n",
      "league.standard.stats.latest.apg\n",
      "league.standard.stats.latest.assists\n",
      "league.standard.stats.latest.blocks\n",
      "league.standard.stats.latest.bpg\n",
      "league.standard.stats.latest.dd2\n",
      "league.standard.stats.latest.defReb\n",
      "league.standard.stats.latest.fga\n",
      "league.standard.stats.latest.fgm\n",
      "league.standard.stats.latest.fgp\n",
      "league.standard.stats.latest.fta\n",
      "league.standard.stats.latest.ftm\n",
      "league.standard.stats.latest.ftp\n",
      "league.standard.stats.latest.gamesPlayed\n",
      "league.standard.stats.latest.gamesStarted\n",
      "league.standard.stats.latest.min\n",
      "league.standard.stats.latest.mpg\n",
      "league.standard.stats.latest.offReb\n",
      "league.standard.stats.latest.pFouls\n",
      "league.standard.stats.latest.plusMinus\n",
      "league.standard.stats.latest.points\n",
      "league.standard.stats.latest.ppg\n",
      "league.standard.stats.latest.rpg\n",
      "league.standard.stats.latest.seasonStageId\n",
      "league.standard.stats.latest.seasonYear\n",
      "league.standard.stats.latest.spg\n",
      "league.standard.stats.latest.steals\n",
      "league.standard.stats.latest.td3\n",
      "league.standard.stats.latest.topg\n",
      "league.standard.stats.latest.totReb\n",
      "league.standard.stats.latest.tpa\n",
      "league.standard.stats.latest.tpm\n",
      "league.standard.stats.latest.tpp\n",
      "league.standard.stats.latest.turnovers\n",
      "league.standard.stats.regularSeason.season\n",
      "league.standard.teamId\n",
      "league.vegas.stats.careerSummary.apg\n",
      "league.vegas.stats.careerSummary.assists\n",
      "league.vegas.stats.careerSummary.blocks\n",
      "league.vegas.stats.careerSummary.bpg\n",
      "league.vegas.stats.careerSummary.dd2\n",
      "league.vegas.stats.careerSummary.defReb\n",
      "league.vegas.stats.careerSummary.fga\n",
      "league.vegas.stats.careerSummary.fgm\n",
      "league.vegas.stats.careerSummary.fgp\n",
      "league.vegas.stats.careerSummary.fta\n",
      "league.vegas.stats.careerSummary.ftm\n",
      "league.vegas.stats.careerSummary.ftp\n",
      "league.vegas.stats.careerSummary.gamesPlayed\n",
      "league.vegas.stats.careerSummary.gamesStarted\n",
      "league.vegas.stats.careerSummary.min\n",
      "league.vegas.stats.careerSummary.mpg\n",
      "league.vegas.stats.careerSummary.offReb\n",
      "league.vegas.stats.careerSummary.pFouls\n",
      "league.vegas.stats.careerSummary.plusMinus\n",
      "league.vegas.stats.careerSummary.points\n",
      "league.vegas.stats.careerSummary.ppg\n",
      "league.vegas.stats.careerSummary.rpg\n",
      "league.vegas.stats.careerSummary.spg\n",
      "league.vegas.stats.careerSummary.steals\n",
      "league.vegas.stats.careerSummary.td3\n",
      "league.vegas.stats.careerSummary.totReb\n",
      "league.vegas.stats.careerSummary.tpa\n",
      "league.vegas.stats.careerSummary.tpm\n",
      "league.vegas.stats.careerSummary.tpp\n",
      "league.vegas.stats.careerSummary.turnovers\n",
      "league.vegas.stats.latest.apg\n",
      "league.vegas.stats.latest.assists\n",
      "league.vegas.stats.latest.blocks\n",
      "league.vegas.stats.latest.bpg\n",
      "league.vegas.stats.latest.dd2\n",
      "league.vegas.stats.latest.defReb\n",
      "league.vegas.stats.latest.fga\n",
      "league.vegas.stats.latest.fgm\n",
      "league.vegas.stats.latest.fgp\n",
      "league.vegas.stats.latest.fta\n",
      "league.vegas.stats.latest.ftm\n",
      "league.vegas.stats.latest.ftp\n",
      "league.vegas.stats.latest.gamesPlayed\n",
      "league.vegas.stats.latest.gamesStarted\n",
      "league.vegas.stats.latest.min\n",
      "league.vegas.stats.latest.mpg\n",
      "league.vegas.stats.latest.offReb\n",
      "league.vegas.stats.latest.pFouls\n",
      "league.vegas.stats.latest.plusMinus\n",
      "league.vegas.stats.latest.points\n",
      "league.vegas.stats.latest.ppg\n",
      "league.vegas.stats.latest.rpg\n",
      "league.vegas.stats.latest.seasonStageId\n",
      "league.vegas.stats.latest.seasonYear\n",
      "league.vegas.stats.latest.spg\n",
      "league.vegas.stats.latest.steals\n",
      "league.vegas.stats.latest.td3\n",
      "league.vegas.stats.latest.topg\n",
      "league.vegas.stats.latest.totReb\n",
      "league.vegas.stats.latest.tpa\n",
      "league.vegas.stats.latest.tpm\n",
      "league.vegas.stats.latest.tpp\n",
      "league.vegas.stats.latest.turnovers\n",
      "league.vegas.stats.regularSeason.season\n",
      "league.vegas.teamId\n",
      "player_ID\n"
     ]
    }
   ],
   "source": [
    "for columnname in stats_df: print(columnname)"
   ]
  },
  {
   "cell_type": "code",
   "execution_count": 10,
   "metadata": {},
   "outputs": [],
   "source": [
    "#index stats by player_ID\n",
    "stats_df.set_index(['player_ID'], inplace = True)\n",
    "points = stats_df['league.standard.stats.careerSummary.points']\n",
    "#convert to numerics\n",
    "points = pd.to_numeric(points)"
   ]
  },
  {
   "cell_type": "code",
   "execution_count": 11,
   "metadata": {},
   "outputs": [
    {
     "data": {
      "text/plain": [
       "player_ID\n",
       "203518      759.0\n",
       "203112     1625.0\n",
       "1629121      -1.0\n",
       "203500     3399.0\n",
       "1628389      37.0\n",
       "Name: league.standard.stats.careerSummary.points, dtype: float64"
      ]
     },
     "execution_count": 11,
     "metadata": {},
     "output_type": "execute_result"
    }
   ],
   "source": [
    "#create a new dataframe with players_ID as index, height and career points\n",
    "points.head()"
   ]
  },
  {
   "cell_type": "code",
   "execution_count": 12,
   "metadata": {},
   "outputs": [],
   "source": [
    "#rename index to ID in both players_df and points\n",
    "points.index.rename('ID',inplace = True)\n",
    "players_df.index.rename('ID',inplace = True)"
   ]
  },
  {
   "cell_type": "code",
   "execution_count": 13,
   "metadata": {},
   "outputs": [],
   "source": [
    "#add points to players df\n",
    "players_df = players_df.join(points)"
   ]
  },
  {
   "cell_type": "code",
   "execution_count": 14,
   "metadata": {},
   "outputs": [
    {
     "data": {
      "text/plain": [
       "<matplotlib.axes._subplots.AxesSubplot at 0x1a2499e6d8>"
      ]
     },
     "execution_count": 14,
     "metadata": {},
     "output_type": "execute_result"
    },
    {
     "data": {
      "image/png": "[encoded data removed]",
      "text/plain": [
       "<matplotlib.figure.Figure at 0x11c615278>"
      ]
     },
     "metadata": {},
     "output_type": "display_data"
    }
   ],
   "source": [
    "#is their a correlation between height and career points? Apparently not really!\n",
    "sns.regplot(x = 'height', y = 'league.standard.stats.careerSummary.points', data = players_df)"
   ]
  },
  {
   "cell_type": "code",
   "execution_count": 15,
   "metadata": {},
   "outputs": [
    {
     "data": {
      "text/plain": [
       "<matplotlib.axes._subplots.AxesSubplot at 0x11d008940>"
      ]
     },
     "execution_count": 15,
     "metadata": {},
     "output_type": "execute_result"
    },
    {
     "data": {
      "image/png": "[encoded data removed]",
      "text/plain": [
       "<matplotlib.figure.Figure at 0x11d00eac8>"
      ]
     },
     "metadata": {},
     "output_type": "display_data"
    }
   ],
   "source": [
    "#what is the distribution of players age?\n",
    "sns.boxplot(players_df.age.dropna())"
   ]
  },
  {
   "cell_type": "code",
   "execution_count": 16,
   "metadata": {},
   "outputs": [],
   "source": [
    "#nobody is 120 years old, change this to NaN\n",
    "players_df.loc[players_df.age >50, 'age'] = np.nan"
   ]
  },
  {
   "cell_type": "code",
   "execution_count": 17,
   "metadata": {},
   "outputs": [
    {
     "data": {
      "text/plain": [
       "<matplotlib.axes._subplots.AxesSubplot at 0x1a2449b828>"
      ]
     },
     "execution_count": 17,
     "metadata": {},
     "output_type": "execute_result"
    },
    {
     "data": {
      "image/png": "[encoded data removed]",
      "text/plain": [
       "<matplotlib.figure.Figure at 0x1a244af898>"
      ]
     },
     "metadata": {},
     "output_type": "display_data"
    }
   ],
   "source": [
    "sns.boxplot(players_df.age.dropna())"
   ]
  },
  {
   "cell_type": "code",
   "execution_count": 18,
   "metadata": {},
   "outputs": [
    {
     "data": {
      "text/plain": [
       "<matplotlib.axes._subplots.AxesSubplot at 0x1a2449f128>"
      ]
     },
     "execution_count": 18,
     "metadata": {},
     "output_type": "execute_result"
    },
    {
     "data": {
      "image/png": "[encoded data removed]",
      "text/plain": [
       "<matplotlib.figure.Figure at 0x11c7c7cf8>"
      ]
     },
     "metadata": {},
     "output_type": "display_data"
    }
   ],
   "source": [
    "#what about points and age?\n",
    "sns.regplot(x = 'age', y = 'league.standard.stats.careerSummary.points', data = players_df)"
   ]
  },
  {
   "cell_type": "markdown",
   "metadata": {},
   "source": [
    "Since this was just for practice, I may stop here.\n",
    "Is the average height different between oklahoma city and brooklyn players?\n",
    "\n"
   ]
  },
  {
   "cell_type": "code",
   "execution_count": 23,
   "metadata": {},
   "outputs": [],
   "source": [
    "oklahoma_height = players_df[players_df['teamData.city']=='Oklahoma City'].height\n",
    "brooklyn_height = players_df[players_df['teamData.city']=='Brooklyn'].height"
   ]
  },
  {
   "cell_type": "code",
   "execution_count": 26,
   "metadata": {},
   "outputs": [
    {
     "data": {
      "text/plain": [
       "<matplotlib.axes._subplots.AxesSubplot at 0x1a25162400>"
      ]
     },
     "execution_count": 26,
     "metadata": {},
     "output_type": "execute_result"
    },
    {
     "data": {
      "image/png": "[encoded data removed]",
      "text/plain": [
       "<matplotlib.figure.Figure at 0x1a25150a58>"
      ]
     },
     "metadata": {},
     "output_type": "display_data"
    }
   ],
   "source": [
    "sns.distplot(oklahoma_height.dropna())\n",
    "sns.distplot(brooklyn_height.dropna())"
   ]
  },
  {
   "cell_type": "code",
   "execution_count": 31,
   "metadata": {},
   "outputs": [
    {
     "data": {
      "text/plain": [
       "ID\n",
       "203518     78.0\n",
       "203500     84.0\n",
       "201147     81.0\n",
       "1629126    77.0\n",
       "1628977    77.0\n",
       "1628408    78.0\n",
       "101109     73.0\n",
       "1628390    79.0\n",
       "202331     81.0\n",
       "203924     81.0\n",
       "1628985    78.0\n",
       "1627772    79.0\n",
       "1628987    80.0\n",
       "203962     79.0\n",
       "1627789    78.0\n",
       "1627846    78.0\n",
       "203457     83.0\n",
       "202335     81.0\n",
       "203460     79.0\n",
       "203471     73.0\n",
       "202713     80.0\n",
       "201566     75.0\n",
       "Name: height, dtype: float64"
      ]
     },
     "execution_count": 31,
     "metadata": {},
     "output_type": "execute_result"
    }
   ],
   "source": [
    "oklahoma_height.dropna()"
   ]
  },
  {
   "cell_type": "code",
   "execution_count": 33,
   "metadata": {},
   "outputs": [
    {
     "data": {
      "text/plain": [
       "ID\n",
       "203112     79.0\n",
       "1628386    83.0\n",
       "201960     80.0\n",
       "203459     78.0\n",
       "202334     82.0\n",
       "203915     78.0\n",
       "1628495    76.0\n",
       "201162     79.0\n",
       "202702     80.0\n",
       "1626203    77.0\n",
       "203925     78.0\n",
       "1626178    79.0\n",
       "1629066    81.0\n",
       "1627747    79.0\n",
       "1629058    81.0\n",
       "203894     73.0\n",
       "1626156    77.0\n",
       "1627821    81.0\n",
       "Name: height, dtype: float64"
      ]
     },
     "execution_count": 33,
     "metadata": {},
     "output_type": "execute_result"
    }
   ],
   "source": [
    "brooklyn_height.dropna()"
   ]
  },
  {
   "cell_type": "code",
   "execution_count": 34,
   "metadata": {},
   "outputs": [
    {
     "data": {
      "text/plain": [
       "MannwhitneyuResult(statistic=189.0, pvalue=0.40755802426501975)"
      ]
     },
     "execution_count": 34,
     "metadata": {},
     "output_type": "execute_result"
    }
   ],
   "source": [
    "#for such small datasets I'm doing a Mann Whitney U Test.\n",
    "mannwhitneyu(oklahoma_height.dropna(),brooklyn_height.dropna())"
   ]
  },
  {
   "cell_type": "markdown",
   "metadata": {},
   "source": [
    "### The two height populations are not significant. "
   ]
  },
  {
   "cell_type": "code",
   "execution_count": null,
   "metadata": {},
   "outputs": [],
   "source": []
  }
 ],
 "metadata": {
  "kernelspec": {
   "display_name": "Python [conda env:insight]",
   "language": "python",
   "name": "conda-env-insight-py"
  },
  "language_info": {
   "codemirror_mode": {
    "name": "ipython",
    "version": 3
   },
   "file_extension": ".py",
   "mimetype": "text/x-python",
   "name": "python",
   "nbconvert_exporter": "python",
   "pygments_lexer": "ipython3",
   "version": "3.6.5"
  }
 },
 "nbformat": 4,
 "nbformat_minor": 2
}
