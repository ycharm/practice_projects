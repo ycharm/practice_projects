{
 "cells": [
  {
   "cell_type": "markdown",
   "metadata": {},
   "source": [
    "## Clean and organize basketball player statistics from scraped data"
   ]
  },
  {
   "cell_type": "code",
   "execution_count": 6,
   "metadata": {},
   "outputs": [],
   "source": [
    "#relevant imports\n",
    "import pandas as pd\n",
    "import seaborn as sns\n",
    "import numpy as np\n"
   ]
  },
  {
   "cell_type": "code",
   "execution_count": 7,
   "metadata": {},
   "outputs": [],
   "source": [
    "players_df = pd.read_pickle('basketballplayers.pkl')"
   ]
  },
  {
   "cell_type": "code",
   "execution_count": 8,
   "metadata": {},
   "outputs": [
    {
     "data": {
      "text/html": [
       "<div>\n",
       "<style scoped>\n",
       "    .dataframe tbody tr th:only-of-type {\n",
       "        vertical-align: middle;\n",
       "    }\n",
       "\n",
       "    .dataframe tbody tr th {\n",
       "        vertical-align: top;\n",
       "    }\n",
       "\n",
       "    .dataframe thead th {\n",
       "        text-align: right;\n",
       "    }\n",
       "</style>\n",
       "<table border=\"1\" class=\"dataframe\">\n",
       "  <thead>\n",
       "    <tr style=\"text-align: right;\">\n",
       "      <th></th>\n",
       "      <th>displayName</th>\n",
       "      <th>firstName</th>\n",
       "      <th>heightFeet</th>\n",
       "      <th>heightInches</th>\n",
       "      <th>isAllStar</th>\n",
       "      <th>jersey</th>\n",
       "      <th>lastName</th>\n",
       "      <th>orderChar</th>\n",
       "      <th>playerUrl</th>\n",
       "      <th>pos</th>\n",
       "      <th>posExpanded</th>\n",
       "      <th>teamData.city</th>\n",
       "      <th>teamData.nickname</th>\n",
       "      <th>teamData.tricode</th>\n",
       "      <th>teamData.urlName</th>\n",
       "      <th>weightPounds</th>\n",
       "      <th>age</th>\n",
       "      <th>years_in_nba</th>\n",
       "    </tr>\n",
       "    <tr>\n",
       "      <th>personId</th>\n",
       "      <th></th>\n",
       "      <th></th>\n",
       "      <th></th>\n",
       "      <th></th>\n",
       "      <th></th>\n",
       "      <th></th>\n",
       "      <th></th>\n",
       "      <th></th>\n",
       "      <th></th>\n",
       "      <th></th>\n",
       "      <th></th>\n",
       "      <th></th>\n",
       "      <th></th>\n",
       "      <th></th>\n",
       "      <th></th>\n",
       "      <th></th>\n",
       "      <th></th>\n",
       "      <th></th>\n",
       "    </tr>\n",
       "  </thead>\n",
       "  <tbody>\n",
       "    <tr>\n",
       "      <th>203518</th>\n",
       "      <td>Abrines, Alex</td>\n",
       "      <td>Alex</td>\n",
       "      <td>6</td>\n",
       "      <td>6</td>\n",
       "      <td>False</td>\n",
       "      <td>8</td>\n",
       "      <td>Abrines</td>\n",
       "      <td>A</td>\n",
       "      <td>/players/alex/abrines/203518</td>\n",
       "      <td>G</td>\n",
       "      <td>Guard</td>\n",
       "      <td>Oklahoma City</td>\n",
       "      <td>Thunder</td>\n",
       "      <td>OKC</td>\n",
       "      <td>thunder</td>\n",
       "      <td>190</td>\n",
       "      <td>25.0</td>\n",
       "      <td>2.0</td>\n",
       "    </tr>\n",
       "    <tr>\n",
       "      <th>203112</th>\n",
       "      <td>Acy, Quincy</td>\n",
       "      <td>Quincy</td>\n",
       "      <td>6</td>\n",
       "      <td>7</td>\n",
       "      <td>False</td>\n",
       "      <td>13</td>\n",
       "      <td>Acy</td>\n",
       "      <td>A</td>\n",
       "      <td>/players/quincy/acy/203112</td>\n",
       "      <td>F</td>\n",
       "      <td>Forward</td>\n",
       "      <td>Brooklyn</td>\n",
       "      <td>Nets</td>\n",
       "      <td>BKN</td>\n",
       "      <td>nets</td>\n",
       "      <td>240</td>\n",
       "      <td>27.0</td>\n",
       "      <td>6.0</td>\n",
       "    </tr>\n",
       "    <tr>\n",
       "      <th>1629121</th>\n",
       "      <td>Adams, Jaylen</td>\n",
       "      <td>Jaylen</td>\n",
       "      <td>6</td>\n",
       "      <td>2</td>\n",
       "      <td>False</td>\n",
       "      <td></td>\n",
       "      <td>Adams</td>\n",
       "      <td>A</td>\n",
       "      <td>/players/jaylen/adams/1629121</td>\n",
       "      <td>G</td>\n",
       "      <td>Guard</td>\n",
       "      <td>Atlanta</td>\n",
       "      <td>Hawks</td>\n",
       "      <td>ATL</td>\n",
       "      <td>hawks</td>\n",
       "      <td>190</td>\n",
       "      <td>22.0</td>\n",
       "      <td>0.0</td>\n",
       "    </tr>\n",
       "    <tr>\n",
       "      <th>203500</th>\n",
       "      <td>Adams, Steven</td>\n",
       "      <td>Steven</td>\n",
       "      <td>7</td>\n",
       "      <td>0</td>\n",
       "      <td>False</td>\n",
       "      <td>12</td>\n",
       "      <td>Adams</td>\n",
       "      <td>A</td>\n",
       "      <td>/players/steven/adams/203500</td>\n",
       "      <td>C</td>\n",
       "      <td>Center</td>\n",
       "      <td>Oklahoma City</td>\n",
       "      <td>Thunder</td>\n",
       "      <td>OKC</td>\n",
       "      <td>thunder</td>\n",
       "      <td>255</td>\n",
       "      <td>25.0</td>\n",
       "      <td>5.0</td>\n",
       "    </tr>\n",
       "    <tr>\n",
       "      <th>1628389</th>\n",
       "      <td>Adebayo, Bam</td>\n",
       "      <td>Bam</td>\n",
       "      <td>6</td>\n",
       "      <td>10</td>\n",
       "      <td>False</td>\n",
       "      <td>13</td>\n",
       "      <td>Adebayo</td>\n",
       "      <td>A</td>\n",
       "      <td>/players/bam/adebayo/1628389</td>\n",
       "      <td>C-F</td>\n",
       "      <td>Center-Forward</td>\n",
       "      <td>Miami</td>\n",
       "      <td>Heat</td>\n",
       "      <td>MIA</td>\n",
       "      <td>heat</td>\n",
       "      <td>255</td>\n",
       "      <td>21.0</td>\n",
       "      <td>1.0</td>\n",
       "    </tr>\n",
       "  </tbody>\n",
       "</table>\n",
       "</div>"
      ],
      "text/plain": [
       "            displayName firstName heightFeet heightInches  isAllStar jersey  \\\n",
       "personId                                                                      \n",
       "203518    Abrines, Alex      Alex          6            6      False      8   \n",
       "203112      Acy, Quincy    Quincy          6            7      False     13   \n",
       "1629121   Adams, Jaylen    Jaylen          6            2      False          \n",
       "203500    Adams, Steven    Steven          7            0      False     12   \n",
       "1628389    Adebayo, Bam       Bam          6           10      False     13   \n",
       "\n",
       "         lastName orderChar                      playerUrl  pos  \\\n",
       "personId                                                          \n",
       "203518    Abrines         A   /players/alex/abrines/203518    G   \n",
       "203112        Acy         A     /players/quincy/acy/203112    F   \n",
       "1629121     Adams         A  /players/jaylen/adams/1629121    G   \n",
       "203500      Adams         A   /players/steven/adams/203500    C   \n",
       "1628389   Adebayo         A   /players/bam/adebayo/1628389  C-F   \n",
       "\n",
       "             posExpanded  teamData.city teamData.nickname teamData.tricode  \\\n",
       "personId                                                                     \n",
       "203518             Guard  Oklahoma City           Thunder              OKC   \n",
       "203112           Forward       Brooklyn              Nets              BKN   \n",
       "1629121            Guard        Atlanta             Hawks              ATL   \n",
       "203500            Center  Oklahoma City           Thunder              OKC   \n",
       "1628389   Center-Forward          Miami              Heat              MIA   \n",
       "\n",
       "         teamData.urlName weightPounds   age  years_in_nba  \n",
       "personId                                                    \n",
       "203518            thunder          190  25.0           2.0  \n",
       "203112               nets          240  27.0           6.0  \n",
       "1629121             hawks          190  22.0           0.0  \n",
       "203500            thunder          255  25.0           5.0  \n",
       "1628389              heat          255  21.0           1.0  "
      ]
     },
     "execution_count": 8,
     "metadata": {},
     "output_type": "execute_result"
    }
   ],
   "source": [
    "players_df.head()"
   ]
  },
  {
   "cell_type": "code",
   "execution_count": 9,
   "metadata": {},
   "outputs": [],
   "source": [
    "#convert to numeric and create new column called height\n",
    "players_df.replace(to_replace = '-', value = np.nan, inplace = True)\n",
    "players_df['heightFeet'] = pd.to_numeric(players_df.heightFeet)\n",
    "players_df['heightInches'] = pd.to_numeric(players_df.heightInches)\n",
    "players_df['height'] = players_df.heightFeet * 12 + players_df.heightInches"
   ]
  },
  {
   "cell_type": "code",
   "execution_count": 11,
   "metadata": {},
   "outputs": [
    {
     "data": {
      "text/plain": [
       "<matplotlib.axes._subplots.AxesSubplot at 0x1a0d91e710>"
      ]
     },
     "execution_count": 11,
     "metadata": {},
     "output_type": "execute_result"
    },
    {
     "data": {
      "image/png": "[encoded data removed]",
      "text/plain": [
       "<matplotlib.figure.Figure at 0x1a0d9074a8>"
      ]
     },
     "metadata": {},
     "output_type": "display_data"
    }
   ],
   "source": [
    "#distribution of heights of basketball plauers\n",
    "sns.distplot(players_df.height.dropna())"
   ]
  },
  {
   "cell_type": "code",
   "execution_count": null,
   "metadata": {},
   "outputs": [],
   "source": [
    "df['weightPounds'] = pd.to_numeric(players_df.weightPounds)\n",
    "sns.distplot(pd.to_numeric(players_df.weightPounds).dropna())\n",
    "\n"
   ]
  },
  {
   "cell_type": "code",
   "execution_count": 1,
   "metadata": {},
   "outputs": [
    {
     "ename": "NameError",
     "evalue": "name 'sns' is not defined",
     "output_type": "error",
     "traceback": [
      "\u001b[0;31m---------------------------------------------------------------------------\u001b[0m",
      "\u001b[0;31mNameError\u001b[0m                                 Traceback (most recent call last)",
      "\u001b[0;32m<ipython-input-1-5d683898cf8f>\u001b[0m in \u001b[0;36m<module>\u001b[0;34m()\u001b[0m\n\u001b[1;32m      2\u001b[0m \u001b[0;34m\u001b[0m\u001b[0m\n\u001b[1;32m      3\u001b[0m \u001b[0;31m#age of current basketball players\u001b[0m\u001b[0;34m\u001b[0m\u001b[0;34m\u001b[0m\u001b[0m\n\u001b[0;32m----> 4\u001b[0;31m \u001b[0msns\u001b[0m\u001b[0;34m.\u001b[0m\u001b[0mdistplot\u001b[0m\u001b[0;34m(\u001b[0m\u001b[0mplayers_df\u001b[0m\u001b[0;34m.\u001b[0m\u001b[0mage\u001b[0m\u001b[0;34m.\u001b[0m\u001b[0mdropna\u001b[0m\u001b[0;34m(\u001b[0m\u001b[0;34m)\u001b[0m\u001b[0;34m)\u001b[0m\u001b[0;34m\u001b[0m\u001b[0m\n\u001b[0m\u001b[1;32m      5\u001b[0m \u001b[0;34m\u001b[0m\u001b[0m\n\u001b[1;32m      6\u001b[0m \u001b[0;34m\u001b[0m\u001b[0m\n",
      "\u001b[0;31mNameError\u001b[0m: name 'sns' is not defined"
     ]
    }
   ],
   "source": [
    "#age of current basketball players\n",
    "sns.distplot(players_df.age.dropna())\n",
    "\n",
    "\n",
    "\n",
    "\n",
    "sns.distplot(players_df.height.dropna())\n",
    "\n"
   ]
  },
  {
   "cell_type": "code",
   "execution_count": null,
   "metadata": {},
   "outputs": [],
   "source": []
  }
 ],
 "metadata": {
  "kernelspec": {
   "display_name": "Python [conda env:insight]",
   "language": "python",
   "name": "conda-env-insight-py"
  },
  "language_info": {
   "codemirror_mode": {
    "name": "ipython",
    "version": 3
   },
   "file_extension": ".py",
   "mimetype": "text/x-python",
   "name": "python",
   "nbconvert_exporter": "python",
   "pygments_lexer": "ipython3",
   "version": "3.6.5"
  }
 },
 "nbformat": 4,
 "nbformat_minor": 2
}
